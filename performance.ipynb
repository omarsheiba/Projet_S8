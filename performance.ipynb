{
 "cells": [
  {
   "cell_type": "code",
   "execution_count": null,
   "metadata": {},
   "outputs": [],
   "source": [
    "from excel_time_series_provider import ExcelTimeSeriesProvider\n",
    "from matplotlib import pyplot\n",
    "import pandas as pd\n",
    "import numpy as np\n",
    "\n",
    "from utils import *"
   ]
  },
  {
   "cell_type": "code",
   "execution_count": null,
   "metadata": {},
   "outputs": [],
   "source": [
    "##Parameters\n",
    "stock_name = \"NESTE FH Equity\"\n",
    "index_name = \"SXXP Index\"\n",
    "filename = \"Neste and SXXP price.xlsx\"\n",
    "price_type = \"PX_LAST\""
   ]
  },
  {
   "cell_type": "code",
   "execution_count": null,
   "metadata": {},
   "outputs": [],
   "source": [
    "##parse time series and create resulting dataframe\n",
    "ts_provider = ExcelTimeSeriesProvider(filename)\n",
    "##get_time_series method designed in a polymorphic way to allow passing any number of parameters\n",
    "##you don't need to specify the position of the time series in the excel workbook, just the labels characterising it \n",
    "NESTE_ts = ts_provider.get_time_series(stock_name, price_type)\n",
    "SXXP_ts = ts_provider.get_time_series(index_name, price_type)\n",
    "dates = ts_provider.get_time_series(\"Dates\")\n",
    "ts_df = pd.DataFrame(list(zip(dates, NESTE_ts, SXXP_ts)),\n",
    "               columns =['Dates', stock_name, index_name], index=dates)\n",
    "ts_df.head()"
   ]
  },
  {
   "cell_type": "code",
   "execution_count": null,
   "metadata": {},
   "outputs": [],
   "source": [
    "## Add resulting relative performance to dataframe\n",
    "ts_df['daily_relative_performance'] = ts_df[stock_name] / ts_df[index_name]\n",
    "ts_df.head()"
   ]
  },
  {
   "cell_type": "code",
   "execution_count": null,
   "metadata": {},
   "outputs": [],
   "source": [
    "## Compute 3M rolling max and add it to dataframe\n",
    "## If the start day of the rolling period falls on a weekend, we take the following week day\n",
    "ts_df['3M rolling max'] = [\n",
    "    ts_df.loc[\n",
    "        edt - pd.tseries.offsets.DateOffset(months=3):edt, 'daily_relative_performance'\n",
    "    ].max() if (edt - pd.tseries.offsets.DateOffset(months=3) >= ts_df['Dates'].iloc[0]) else np.NaN for edt in ts_df.index\n",
    "]\n",
    "\n",
    "print(ts_df.tail())\n",
    "## test code for the 3m rolling max logic\n",
    "# first_3m_window_end_date = ts_df['Dates'].iloc[0] + pd.tseries.offsets.DateOffset(months=3)\n",
    "# for index, row in ts_df.loc[first_3m_window_end_date::].iterrows():\n",
    "#     if row['3M rolling max'] != ts_df.loc[index-pd.tseries.offsets.DateOffset(months=3):index]['daily_relative_performance'].max():\n",
    "#         print(row['3M rolling max'])\n",
    "#         print(ts_df.loc[index-pd.tseries.offsets.DateOffset(months=3):index]['daily_relative_performance'].max())\n",
    "#         print(index)"
   ]
  },
  {
   "cell_type": "code",
   "execution_count": null,
   "metadata": {},
   "outputs": [],
   "source": [
    "##Get 1 month, 3month and 6month relative performance following 3 month rolling max\n",
    "##A signal is generated whenever 3month hight is reached, even if right after another 3 month high\n",
    "##We store the 3 month high generating the signal, the 1/3/6 month relative performance following the signal, and the date of the signal generation \n",
    "##In addition we are going to compute the market neutral sharpe ratio (long 1$ stock short 1$ index) as a way to compare stock's risk adjusted performance relatively to the index\n",
    "forward_looking_relative_performance ={'1M':[], '3M':[], '6M':[]}\n",
    "last_date = ts_df['Dates'].iloc[-1]\n",
    "##We add the daily returns columns to the dataframe in order to compute sharpe ratio of the market neutral strategy\n",
    "ts_df['NESTE FH Equity pct_change'] = ts_df[stock_name].pct_change()\n",
    "ts_df['SXXP Index pct_change'] = ts_df[index_name].pct_change()\n",
    "\n",
    "for index,row in ts_df.iterrows():\n",
    "    if row['3M rolling max'] == row['daily_relative_performance']:\n",
    "        offset_1m = add_months(index, 1)\n",
    "        if offset_1m <= last_date:\n",
    "            #strategy daily return = stock return - benchmark return / 2\n",
    "            sr = sharpe_ratio_annualized((ts_df.loc[index:offset_1m]['NESTE FH Equity pct_change'] - ts_df.loc[index:offset_1m]['SXXP Index pct_change'])/2)\n",
    "            forward_looking_relative_performance['1M'].append((row['3M rolling max'], ts_df.loc[offset_1m]['daily_relative_performance'], index, sr))\n",
    "        else:\n",
    "            ## if current date > last_date - 1 month, stop looping\n",
    "            break\n",
    "        offset_3m = add_months(index, 3)\n",
    "        if offset_3m <= last_date:\n",
    "            sr = sharpe_ratio_annualized((ts_df.loc[index:offset_3m]['NESTE FH Equity pct_change'] - ts_df.loc[index:offset_3m]['SXXP Index pct_change'])/2)\n",
    "            forward_looking_relative_performance['3M'].append((row['3M rolling max'], ts_df.loc[offset_3m]['daily_relative_performance'], index, sr))\n",
    "        else:\n",
    "            ## if current date > last_date - 3 month, no need to check the 6 month relative performance\n",
    "            continue\n",
    "        offset_6m = add_months(index, 6)\n",
    "        if offset_6m <= last_date:\n",
    "            sr = sharpe_ratio_annualized((ts_df.loc[index:offset_6m]['NESTE FH Equity pct_change'] - ts_df.loc[index:offset_6m]['SXXP Index pct_change'])/2)\n",
    "            forward_looking_relative_performance['6M'].append((row['3M rolling max'], ts_df.loc[offset_6m]['daily_relative_performance'], index, sr))\n",
    "print(forward_looking_relative_performance)"
   ]
  },
  {
   "cell_type": "code",
   "execution_count": null,
   "metadata": {},
   "outputs": [],
   "source": [
    "##Compute and performance metrics and store in a dataframe\n",
    "perf_metrics = {key: {} for key in forward_looking_relative_performance.keys()}\n",
    "for key in perf_metrics.keys():\n",
    "    geometric_rr = [(a[1]-a[0])/a[0] for a in forward_looking_relative_performance[key]]\n",
    "    perf_metrics[key]['nb obs'] = len(geometric_rr)\n",
    "    perf_metrics[key]['average geometric relative return'] = np.average(geometric_rr)\n",
    "    perf_metrics[key]['stdev geometric relative return'] = np.std(geometric_rr)\n",
    "    perf_metrics[key]['median geometric relative return'] = np.median(geometric_rr)\n",
    "    perf_metrics[key]['max geometric relative return'] = np.max(geometric_rr)\n",
    "    perf_metrics[key]['min geometric relative return'] = np.min(geometric_rr)\n",
    "    perf_metrics[key]['annualized average geometric relative return'] = pow((1+perf_metrics[key]['average geometric relative return']),12/int(key[0]))-1\n",
    "    perf_metrics[key]['hit ratio'] = sum([1 if i>0 else 0 for i in geometric_rr])/len(geometric_rr)\n",
    "    perf_metrics[key]['average annualized sharpe ratio (market neutral)'] = np.mean([a[3] for a in forward_looking_relative_performance[key]])\n",
    "\n",
    "metrics_df = pd.DataFrame.from_dict(perf_metrics, orient = 'index')\n",
    "metrics_df.head()"
   ]
  },
  {
   "cell_type": "code",
   "execution_count": null,
   "metadata": {},
   "outputs": [],
   "source": [
    "s= pd.Series([a[0] for a in forward_looking_relative_performance['1M']], index=[a[2] for a in forward_looking_relative_performance['1M']])\n",
    "pyplot.figure(figsize=(20,10))\n",
    "ax = pyplot.subplot(131)\n",
    "ax.set_title('Relative performance max values (3 month rolling window)')\n",
    "ax.set_xlabel('Date')\n",
    "ax.set_ylabel('Relative performance')\n",
    "s.plot(style = 'k.')\n",
    "geometric_rr = []\n",
    "label_keys = forward_looking_relative_performance.keys()\n",
    "for key in label_keys:\n",
    "    geometric_rr.append([(a[1]-a[0])/a[0] for a in forward_looking_relative_performance[key]])\n",
    "ax = pyplot.subplot(132)\n",
    "ax.set_title('Box plot of the geometric relative return for each holding period')\n",
    "ax.set_xlabel('Holding period')\n",
    "ax.set_ylabel('Geometric relative return')\n",
    "pyplot.boxplot(geometric_rr, labels=label_keys, showfliers=True)\n",
    "ax = pyplot.subplot(133)\n",
    "ax.set_title('Stock/Index Scatter plot and regression line')\n",
    "ax.set_xlabel(index_name)\n",
    "ax.set_ylabel(stock_name)\n",
    "pyplot.scatter(ts_df[index_name], ts_df[stock_name], s = 10)\n",
    "a, b = np.polyfit(ts_df[index_name], ts_df[stock_name], 1)\n",
    "ax.text(310, 15, f'r = {round(a, 3)}', color = \"red\")\n",
    "pyplot.plot(ts_df[index_name], a*ts_df[index_name] + b, 'r-')\n",
    "pyplot.show()"
   ]
  }
 ],
 "metadata": {
  "kernelspec": {
   "display_name": "Python 3",
   "language": "python",
   "name": "python3"
  },
  "language_info": {
   "codemirror_mode": {
    "name": "ipython",
    "version": 3
   },
   "file_extension": ".py",
   "mimetype": "text/x-python",
   "name": "python",
   "nbconvert_exporter": "python",
   "pygments_lexer": "ipython3",
   "version": "3.10.4"
  },
  "orig_nbformat": 4
 },
 "nbformat": 4,
 "nbformat_minor": 2
}
